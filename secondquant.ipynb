{
 "cells": [
  {
   "cell_type": "code",
   "execution_count": 1,
   "metadata": {},
   "outputs": [
    {
     "data": {
      "text/latex": [
       "$\\displaystyle {f^{p}_{q}} \\left\\{{a^\\dagger_{p}} a_{q}\\right\\} - \\frac{{v^{pq}_{rs}} \\left\\{{a^\\dagger_{p}} {a^\\dagger_{q}} a_{r} a_{s}\\right\\}}{4}$"
      ],
      "text/plain": [
       "AntiSymmetricTensor(f, (_p,), (_q,))*NO(CreateFermion(_p)*AnnihilateFermion(_q)) - AntiSymmetricTensor(v, (_p, _q), (_r, _s))*NO(CreateFermion(_p)*CreateFermion(_q)*AnnihilateFermion(_r)*AnnihilateFermion(_s))/4"
      ]
     },
     "execution_count": 1,
     "metadata": {},
     "output_type": "execute_result"
    }
   ],
   "source": [
    "from sympy import symbols, Dummy, Rational\n",
    "from sympy.physics.secondquant import F, Fd, AntiSymmetricTensor, wicks, substitute_dummies, NO, evaluate_deltas, Commutator\n",
    "\n",
    "# Define the symbols   \n",
    "\n",
    "i, j, k, l = symbols('i:l', below_fermi=True, cls = Dummy)\n",
    "a, b, c, d = symbols('a:d', above_fermi=True, cls = Dummy)\n",
    "p, q, r, s = symbols('p:s', cls = Dummy)\n",
    "\n",
    "# Normal ordered operators \n",
    "Fn = (AntiSymmetricTensor('f', upper = (p,), lower = (q,)) * NO(Fd(p) * F(q)))\n",
    "Wn = (AntiSymmetricTensor('v', upper = (p, q), lower = (r, s)) * NO(Fd(p) * F(r) * Fd(q) * F(s)))\n",
    "\n",
    "Hn = Fn + Rational(1, 4) * Wn\n",
    "\n",
    "Hn"
   ]
  },
  {
   "cell_type": "code",
   "execution_count": 2,
   "metadata": {},
   "outputs": [
    {
     "data": {
      "text/latex": [
       "$\\displaystyle \\frac{{v^{pq}_{rs}} {a^\\dagger_{p}} {a^\\dagger_{q}} a_{s} a_{r}}{4} + {z^{p}_{q}} {a^\\dagger_{p}} a_{q}$"
      ],
      "text/plain": [
       "AntiSymmetricTensor(v, (_p, _q), (_r, _s))*CreateFermion(_p)*CreateFermion(_q)*AnnihilateFermion(_s)*AnnihilateFermion(_r)/4 + AntiSymmetricTensor(z, (_p,), (_q,))*CreateFermion(_p)*AnnihilateFermion(_q)"
      ]
     },
     "execution_count": 2,
     "metadata": {},
     "output_type": "execute_result"
    }
   ],
   "source": [
    "z = AntiSymmetricTensor('z', upper = (p,), lower = (q,)) * Fd(p) * F(q)\n",
    "v = AntiSymmetricTensor('v', upper = (p, q), lower = (r, s)) * Fd(p) * Fd(q) * F(s) * F(r) \n",
    "H = z + Rational(1, 4) * v\n",
    "H"
   ]
  },
  {
   "cell_type": "code",
   "execution_count": 3,
   "metadata": {},
   "outputs": [
    {
     "data": {
      "text/latex": [
       "$\\displaystyle \\frac{{v^{ii}_{ii}}}{4} + \\frac{{v^{ii}_{ii}}}{4} + {z^{i}_{i}}$"
      ],
      "text/plain": [
       "AntiSymmetricTensor(v, (_i, _i), (_i, _i))/4 + AntiSymmetricTensor(v, (_i, _i), (_i, _i))/4 + AntiSymmetricTensor(z, (_i,), (_i,))"
      ]
     },
     "execution_count": 3,
     "metadata": {},
     "output_type": "execute_result"
    }
   ],
   "source": [
    "hf_energy = wicks(H, keep_only_fully_contracted=True, simplify_kronecker_deltas=True)\n",
    "\n",
    "hf_energy"
   ]
  },
  {
   "cell_type": "code",
   "execution_count": 4,
   "metadata": {},
   "outputs": [
    {
     "data": {
      "text/latex": [
       "$\\displaystyle \\frac{{v^{ij}_{ij}}}{2} + {z^{i}_{i}}$"
      ],
      "text/plain": [
       "AntiSymmetricTensor(v, (_i, _j), (_i, _j))/2 + AntiSymmetricTensor(z, (_i,), (_i,))"
      ]
     },
     "execution_count": 4,
     "metadata": {},
     "output_type": "execute_result"
    }
   ],
   "source": [
    "hf_energy = substitute_dummies(hf_energy, new_indices=True, pretty_indices={'below':  'ijklmno','above':  'abcde', 'general': 'pqrs'})\n",
    "(hf_energy)"
   ]
  },
  {
   "cell_type": "code",
   "execution_count": 6,
   "metadata": {},
   "outputs": [],
   "source": [
    "from operators import *\n",
    "\n",
    "Hn = get_f() + get_v()\n",
    "T = get_ts() + get_td()\n",
    "\n",
    "Hbar = BCH_expand(Hn, T, 4)\n",
    "\n"
   ]
  },
  {
   "cell_type": "code",
   "execution_count": 7,
   "metadata": {},
   "outputs": [],
   "source": [
    "# CCSD energy\n",
    "\n",
    "w = wicks(Hbar, simplify_kronecker_deltas=True, keep_only_fully_contracted=True)\n",
    "pretty_indices = {'below': 'ijklmno', 'above': 'abcdef', 'general': 'pqrstuv'}\n",
    "ccsd_energy = substitute_dummies(w, new_indices=True, pretty_indices=pretty_indices)"
   ]
  },
  {
   "cell_type": "code",
   "execution_count": 8,
   "metadata": {},
   "outputs": [
    {
     "data": {
      "text/latex": [
       "$\\displaystyle {f^{i}_{a}} {t^{a}_{i}} - \\frac{{g^{ij}_{ab}} {t^{a}_{j}} {t^{b}_{i}}}{2} + \\frac{{g^{ij}_{ab}} {t^{ab}_{ij}}}{4}$"
      ],
      "text/plain": [
       "AntiSymmetricTensor(f, (_i,), (_a,))*AntiSymmetricTensor(t, (_a,), (_i,)) - AntiSymmetricTensor(g, (_i, _j), (_a, _b))*AntiSymmetricTensor(t, (_a,), (_j,))*AntiSymmetricTensor(t, (_b,), (_i,))/2 + AntiSymmetricTensor(g, (_i, _j), (_a, _b))*AntiSymmetricTensor(t, (_a, _b), (_i, _j))/4"
      ]
     },
     "metadata": {},
     "output_type": "display_data"
    }
   ],
   "source": [
    "display(ccsd_energy)"
   ]
  },
  {
   "cell_type": "code",
   "execution_count": null,
   "metadata": {},
   "outputs": [],
   "source": []
  }
 ],
 "metadata": {
  "kernelspec": {
   "display_name": "test_pyscf",
   "language": "python",
   "name": "python3"
  },
  "language_info": {
   "codemirror_mode": {
    "name": "ipython",
    "version": 3
   },
   "file_extension": ".py",
   "mimetype": "text/x-python",
   "name": "python",
   "nbconvert_exporter": "python",
   "pygments_lexer": "ipython3",
   "version": "3.9.17"
  }
 },
 "nbformat": 4,
 "nbformat_minor": 2
}
